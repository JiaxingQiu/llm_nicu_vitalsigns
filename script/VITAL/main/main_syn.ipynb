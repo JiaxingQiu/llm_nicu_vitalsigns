{
 "cells": [
  {
   "cell_type": "code",
   "execution_count": null,
   "metadata": {
    "tags": []
   },
   "outputs": [],
   "source": [
    "import os\n",
    "# os.chdir(\"../\")\n",
    "# # Set R environment variables using the conda environment path\n",
    "# r_home = '/sfs/gpfs/tardis/home/jq2uw/llm_nicu_vitalsigns/clip_env/lib/R'\n",
    "# os.environ['R_HOME'] = r_home\n",
    "# os.environ['R_LIBS'] = f\"{r_home}/library\"\n",
    "# os.environ['R_LIBS_USER'] = os.path.expanduser('~/R/goolf/4.3')\n",
    "# os.environ['LD_LIBRARY_PATH'] = f\"{r_home}/lib:\" + os.environ.get('LD_LIBRARY_PATH', '')\n",
    "\n",
    "import torch\n",
    "if torch.cuda.is_available():\n",
    "    torch.cuda.empty_cache()\n",
    "    torch.cuda.ipc_collect()\n",
    "\n",
    "from config import *\n",
    "from data import *\n",
    "from train import *\n",
    "from eval import *\n",
    "from generation import *\n",
    "from vital2d import *\n",
    "print(\"using device: \", device)"
   ]
  },
  {
   "cell_type": "markdown",
   "metadata": {},
   "source": [
    "# Configuration (customizable)"
   ]
  },
  {
   "cell_type": "code",
   "execution_count": 2,
   "metadata": {},
   "outputs": [],
   "source": [
    "\n",
    "overwrite = True\n",
    "model_name = 'tmp' \n",
    "\n",
    "\n",
    "update_config(\n",
    "    \n",
    "    # Eval settings (clip)\n",
    "    # ts2txt\n",
    "    y_col = 'ts_description',\n",
    "    y_levels = ['The time series exhibits a upward linear trend.', 'The time series exhibits a downward linear trend.'],\n",
    "    y_pred_levels = ['The time series exhibits a upward linear trend.', 'The time series exhibits a downward linear trend.'],\n",
    "    # txt2ts\n",
    "    txt2ts_y_cols = ['ts_description'],\n",
    "    \n",
    "    \n",
    "    # Data settings\n",
    "    text_col = 'ts_description', #'ts_description',\n",
    "    seq_length = 200,\n",
    "    downsample = True,\n",
    "    downsample_size = 100,\n",
    "    downsample_levels = ['The time series exhibits a upward linear trend.', 'The time series exhibits a downward linear trend.'],\n",
    "    custom_target_cols = ['ts_description', 'label'], # 'label' is the same as the default \"by_label\" target\n",
    "    \n",
    "    \n",
    "    # Model settings\n",
    "    model_name = model_name,\n",
    "    **{'3d': False},  # Add this line\n",
    "    embedded_dim = 512,\n",
    "    concat_embeddings = False,\n",
    "    clip_mu = False,\n",
    "    variational = False,\n",
    "    train_type = 'joint', # or 'vae', 'clip'\n",
    "    clip_target_type = 'by_target', # or 'by_label'\n",
    "    \n",
    "    # Train settings\n",
    "    batch_size = 512,\n",
    "    init_lr = 1e-4,\n",
    "    patience = 200,\n",
    "    alpha = 1/10,\n",
    "    num_saves = 1,\n",
    "    num_epochs = 500,\n",
    "    \n",
    "    # Text configuration\n",
    "    text_config = text_config\n",
    ")\n",
    "config_dict = get_config_dict()\n"
   ]
  },
  {
   "cell_type": "markdown",
   "metadata": {},
   "source": [
    "# Data"
   ]
  },
  {
   "cell_type": "code",
   "execution_count": null,
   "metadata": {},
   "outputs": [],
   "source": [
    "# change data preparation for a given experiment\n",
    "with open('prepare_experiment/synthetic.py', 'r') as file:\n",
    "    exec(file.read())\n",
    "# prepare model inputs\n",
    "with open('run/inputs.py', 'r') as file:\n",
    "    exec(file.read())"
   ]
  },
  {
   "cell_type": "markdown",
   "metadata": {},
   "source": [
    "# Model (customizable)"
   ]
  },
  {
   "cell_type": "code",
   "execution_count": null,
   "metadata": {},
   "outputs": [],
   "source": [
    "# customize encoder and decoder here. \n",
    "ts_encoder = CNNEncoder(ts_dim = ts_f_dim.shape[1], output_dim=config_dict['embedded_dim'], num_channels=[4], kernel_size=50, dropout=0)\n",
    "ts_decoder = None # default decoder\n",
    "text_encoder = TextEncoderCNN(text_dim = tx_f_dim.shape[1], output_dim=config_dict['embedded_dim'], num_channels=[4], kernel_size=50, dropout=0)\n",
    "# overwrite = False\n",
    "with open('run/model.py', 'r') as file:\n",
    "    exec(file.read())\n"
   ]
  },
  {
   "cell_type": "markdown",
   "metadata": {},
   "source": [
    "# Train"
   ]
  },
  {
   "cell_type": "code",
   "execution_count": null,
   "metadata": {
    "scrolled": true,
    "tags": []
   },
   "outputs": [],
   "source": [
    "# overwrite = False\n",
    "with open('run/train.py', 'r') as file:\n",
    "    exec(file.read())\n"
   ]
  },
  {
   "cell_type": "markdown",
   "metadata": {},
   "source": [
    "# Diagnose"
   ]
  },
  {
   "cell_type": "code",
   "execution_count": 6,
   "metadata": {},
   "outputs": [],
   "source": [
    "# pairwise_distances, ts2tx_distances = net_emb(df_train, model, config_dict)\n",
    "# for i in range(95, 105):\n",
    "#     print(ts2tx_distances['simi']['High amount of consecutive increases.'][i])\n",
    "#     print(ts2tx_distances['simi']['Low amount of consecutive increases.'][i])\n",
    "    \n",
    "# for i in range(95, 105):\n",
    "#     print(ts2tx_distances['l2']['High amount of consecutive increases.'][i])\n",
    "#     print(ts2tx_distances['l2']['Low amount of consecutive increases.'][i])"
   ]
  },
  {
   "cell_type": "markdown",
   "metadata": {},
   "source": [
    "# Generation"
   ]
  },
  {
   "cell_type": "code",
   "execution_count": null,
   "metadata": {
    "tags": []
   },
   "outputs": [],
   "source": [
    "tid=0\n",
    "viz_generation_marginal(df_train, model, config_dict, tid=tid)\n",
    "viz_generation_conditional(df_train, model, config_dict, tid=tid)"
   ]
  },
  {
   "cell_type": "code",
   "execution_count": null,
   "metadata": {},
   "outputs": [],
   "source": []
  }
 ],
 "metadata": {
  "kernelspec": {
   "display_name": "clip_env",
   "language": "python",
   "name": "python3"
  },
  "language_info": {
   "codemirror_mode": {
    "name": "ipython",
    "version": 3
   },
   "file_extension": ".py",
   "mimetype": "text/x-python",
   "name": "python",
   "nbconvert_exporter": "python",
   "pygments_lexer": "ipython3",
   "version": "3.11.7"
  }
 },
 "nbformat": 4,
 "nbformat_minor": 4
}
