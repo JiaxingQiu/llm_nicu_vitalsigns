{
 "cells": [
  {
   "cell_type": "code",
   "execution_count": 1,
   "metadata": {},
   "outputs": [
    {
     "name": "stdout",
     "output_type": "stream",
     "text": [
      "Random seed set to 333\n",
      "using device:  cpu\n"
     ]
    }
   ],
   "source": [
    "import os\n",
    "os.chdir(\"../\")\n",
    "# # Set R environment variables using the conda environment path\n",
    "# r_home = '/sfs/gpfs/tardis/home/jq2uw/llm_nicu_vitalsigns/clip_env/lib/R'\n",
    "# os.environ['R_HOME'] = r_home\n",
    "# os.environ['R_LIBS'] = f\"{r_home}/library\"\n",
    "# os.environ['R_LIBS_USER'] = os.path.expanduser('~/R/goolf/4.3')\n",
    "# os.environ['LD_LIBRARY_PATH'] = f\"{r_home}/lib:\" + os.environ.get('LD_LIBRARY_PATH', '')\n",
    "\n",
    "import torch\n",
    "if torch.cuda.is_available():\n",
    "    torch.cuda.empty_cache()\n",
    "    torch.cuda.ipc_collect()\n",
    "\n",
    "from config import *\n",
    "from data import *\n",
    "from train import *\n",
    "from eval import *\n",
    "from generation import *\n",
    "from vital2d import *\n",
    "pd.options.mode.chained_assignment = None  # default='warn'\n",
    "print(\"using device: \", device)"
   ]
  },
  {
   "cell_type": "code",
   "execution_count": 4,
   "metadata": {},
   "outputs": [
    {
     "data": {
      "text/plain": [
       "'/Users/joyqiu/Documents/Documents JoyQiu Work/Research/LLMTimeSeries/llm_nicu_vitalsigns/script/VITAL'"
      ]
     },
     "execution_count": 4,
     "metadata": {},
     "output_type": "execute_result"
    }
   ],
   "source": [
    "# get current working dir\n",
    "os.getcwd()"
   ]
  },
  {
   "cell_type": "code",
   "execution_count": 7,
   "metadata": {},
   "outputs": [
    {
     "data": {
      "text/plain": [
       "['PRSA_Data_Gucheng_20130301-20170228.csv',\n",
       " 'PRSA_Data_Huairou_20130301-20170228.csv',\n",
       " 'PRSA_Data_Tiantan_20130301-20170228.csv',\n",
       " 'PRSA_Data_Changping_20130301-20170228.csv',\n",
       " 'PRSA_Data_Guanyuan_20130301-20170228.csv',\n",
       " 'PRSA_Data_Nongzhanguan_20130301-20170228.csv',\n",
       " 'PRSA_Data_Wanliu_20130301-20170228.csv',\n",
       " 'PRSA_Data_Dongsi_20130301-20170228.csv',\n",
       " 'PRSA_Data_Wanshouxigong_20130301-20170228.csv',\n",
       " 'PRSA_Data_Aotizhongxin_20130301-20170228.csv',\n",
       " 'PRSA_Data_Dingling_20130301-20170228.csv',\n",
       " 'PRSA_Data_Shunyi_20130301-20170228.csv']"
      ]
     },
     "execution_count": 7,
     "metadata": {},
     "output_type": "execute_result"
    }
   ],
   "source": [
    "# list filenames under data/air/bj\n",
    "os.listdir('../../data/air/bj')"
   ]
  },
  {
   "cell_type": "code",
   "execution_count": null,
   "metadata": {},
   "outputs": [],
   "source": [
    "# text segment 1: weather stations\n",
    "# text segment 2: rain  vs no rain\n",
    "# text segment 3: 12 months \n",
    "# \n",
    "# (sample a week of data)\n",
    "\n",
    "\n",
    "\n",
    "\n"
   ]
  }
 ],
 "metadata": {
  "kernelspec": {
   "display_name": "clip_env",
   "language": "python",
   "name": "python3"
  },
  "language_info": {
   "codemirror_mode": {
    "name": "ipython",
    "version": 3
   },
   "file_extension": ".py",
   "mimetype": "text/x-python",
   "name": "python",
   "nbconvert_exporter": "python",
   "pygments_lexer": "ipython3",
   "version": "3.11.7"
  }
 },
 "nbformat": 4,
 "nbformat_minor": 2
}
